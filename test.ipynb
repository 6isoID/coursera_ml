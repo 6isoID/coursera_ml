{
 "cells": [
  {
   "cell_type": "code",
   "execution_count": 1,
   "metadata": {
    "collapsed": true
   },
   "outputs": [
    {
     "name": "stdout",
     "output_type": "stream",
     "text": [
      "hello world\n"
     ]
    }
   ],
   "source": [
    "print \"hello world\"\n"
   ]
  },
  {
   "cell_type": "code",
   "execution_count": 4,
   "metadata": {},
   "outputs": [
    {
     "name": "stdout",
     "output_type": "stream",
     "text": [
      "1\n1.5\n"
     ]
    }
   ],
   "source": [
    "a = 3\n",
    "b = 2\n",
    "\n",
    "print a//b\n",
    "print a/(b*1.0)"
   ]
  },
  {
   "cell_type": "code",
   "execution_count": 37,
   "metadata": {},
   "outputs": [
    {
     "name": "stdout",
     "output_type": "stream",
     "text": [
      "123124"
     ]
    }
   ],
   "source": [
    "from __future__ import print_function\n",
    "\n",
    "\n",
    "def number_size(n):\n",
    "    tmp = n\n",
    "    length = 1\n",
    "\n",
    "    while tmp / 10 > 0:\n",
    "        tmp = tmp / 10\n",
    "        length += 1\n",
    "\n",
    "    return length\n",
    "\n",
    "\n",
    "def split_num(k):\n",
    "    list_ = [k % 10]\n",
    "    k = k / 10\n",
    "    # print('enter: {}'.format(n))\n",
    "    while k > 0:\n",
    "        # print('n: {}'.format(n))\n",
    "        list_.append(k % 10)\n",
    "        k = k / 10\n",
    "    list_.reverse()\n",
    "    return list_\n",
    "        \n",
    "\n",
    "def split_to_list(nums):  # nums is a list\n",
    "    return reduce(list.__add__, [split_num(k) for k in nums])\n",
    "    \n",
    "\n",
    "n = 124\n",
    "arr = [x for x in xrange(124, n+1)]\n",
    "\n",
    "print(123, end='')\n",
    "\n",
    "if arr:\n",
    "    for x in split_to_list(arr):\n",
    "        print(x, end='') \n",
    "\n",
    "# arr = [3 ** x for x in xrange(10)]\n",
    "# for x in arr:\n",
    "#     print('{}: {}'.format(x, number_size(x)))\n"
   ]
  },
  {
   "cell_type": "code",
   "execution_count": 53,
   "metadata": {},
   "outputs": [
    {
     "name": "stdout",
     "output_type": "stream",
     "text": [
      "-1\n"
     ]
    }
   ],
   "source": [
    "# given: \n",
    "def get_runner_up(seq):\n",
    "    seq.sort(reverse=True)\n",
    "    for i in xrange(1, len(seq)):\n",
    "        if seq[i - 1] > seq[i]:\n",
    "            return seq[i]\n",
    "\n",
    "\n",
    "arr = [0, -6, -3, -6, -6, -5, -1, -5, -7]\n",
    "print(get_runner_up(arr))\n"
   ]
  },
  {
   "cell_type": "code",
   "execution_count": 78,
   "metadata": {},
   "outputs": [
    {
     "name": "stdout",
     "output_type": "stream",
     "text": [
      "Berry\nHarry\n"
     ]
    }
   ],
   "source": [
    "def comparator(x, y):\n",
    "    if x[1] != y[1]:\n",
    "        return cmp(x[1], y[1])\n",
    "    else:\n",
    "        return cmp(x[0], y[0])\n",
    "\n",
    "\n",
    "def almost_last(seq):\n",
    "    lowest = seq[0][1]\n",
    "\n",
    "    for i in xrange(len(seq)):\n",
    "        if seq[i][1] == lowest: continue\n",
    "        lowest = seq[i][1]\n",
    "        for j in xrange(i, len(seq)):\n",
    "            if seq[j][1] == lowest:\n",
    "                print(seq[j][0])\n",
    "            else:\n",
    "                return \n",
    "\n",
    "\n",
    "students = [\n",
    "    ['Harry', 37.21], \n",
    "    ['Berry', 37.21], \n",
    "    ['Tina', 37.2], \n",
    "    ['Dina', 37.2], \n",
    "    ['Akriti', 41], \n",
    "    ['Harsh', 39]\n",
    "]\n",
    "students.sort(cmp=comparator)\n",
    "almost_last(students)\n"
   ]
  },
  {
   "cell_type": "code",
   "execution_count": 50,
   "metadata": {},
   "outputs": [],
   "source": []
  },
  {
   "cell_type": "code",
   "execution_count": null,
   "metadata": {},
   "outputs": [],
   "source": []
  }
 ],
 "metadata": {
  "kernelspec": {
   "display_name": "Python 2",
   "language": "python",
   "name": "python2"
  },
  "language_info": {
   "codemirror_mode": {
    "name": "ipython",
    "version": 2
   },
   "file_extension": ".py",
   "mimetype": "text/x-python",
   "name": "python",
   "nbconvert_exporter": "python",
   "pygments_lexer": "ipython2",
   "version": "2.7.6"
  }
 },
 "nbformat": 4,
 "nbformat_minor": 0
}
